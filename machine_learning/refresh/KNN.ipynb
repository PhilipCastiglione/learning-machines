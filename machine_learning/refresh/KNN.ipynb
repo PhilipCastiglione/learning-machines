{
 "cells": [
  {
   "cell_type": "markdown",
   "id": "955da046-0d44-47d7-b41a-7822800eab7d",
   "metadata": {},
   "source": [
    "# kNN"
   ]
  },
  {
   "cell_type": "code",
   "execution_count": 5,
   "id": "29771e17",
   "metadata": {},
   "outputs": [],
   "source": [
    "import sklearn.datasets as sk_datasets\n",
    "import sklearn.neighbors as sk_neighbors\n",
    "import sklearn.preprocessing as sk_preprocessing\n",
    "import sklearn.metrics as sk_metrics\n",
    "import pandas as pd\n",
    "import numpy as np\n",
    "import matplotlib.pyplot as plt"
   ]
  },
  {
   "cell_type": "markdown",
   "id": "4119b0e1",
   "metadata": {},
   "source": [
    "Load and examine the iris dataset."
   ]
  },
  {
   "cell_type": "code",
   "execution_count": 6,
   "id": "ada65466",
   "metadata": {},
   "outputs": [
    {
     "data": {
      "text/html": [
       "<div>\n",
       "<style scoped>\n",
       "    .dataframe tbody tr th:only-of-type {\n",
       "        vertical-align: middle;\n",
       "    }\n",
       "\n",
       "    .dataframe tbody tr th {\n",
       "        vertical-align: top;\n",
       "    }\n",
       "\n",
       "    .dataframe thead th {\n",
       "        text-align: right;\n",
       "    }\n",
       "</style>\n",
       "<table border=\"1\" class=\"dataframe\">\n",
       "  <thead>\n",
       "    <tr style=\"text-align: right;\">\n",
       "      <th></th>\n",
       "      <th>sepal length (cm)</th>\n",
       "      <th>sepal width (cm)</th>\n",
       "      <th>petal length (cm)</th>\n",
       "      <th>petal width (cm)</th>\n",
       "      <th>target</th>\n",
       "    </tr>\n",
       "  </thead>\n",
       "  <tbody>\n",
       "    <tr>\n",
       "      <th>0</th>\n",
       "      <td>5.1</td>\n",
       "      <td>3.5</td>\n",
       "      <td>1.4</td>\n",
       "      <td>0.2</td>\n",
       "      <td>0</td>\n",
       "    </tr>\n",
       "    <tr>\n",
       "      <th>1</th>\n",
       "      <td>4.9</td>\n",
       "      <td>3.0</td>\n",
       "      <td>1.4</td>\n",
       "      <td>0.2</td>\n",
       "      <td>0</td>\n",
       "    </tr>\n",
       "    <tr>\n",
       "      <th>2</th>\n",
       "      <td>4.7</td>\n",
       "      <td>3.2</td>\n",
       "      <td>1.3</td>\n",
       "      <td>0.2</td>\n",
       "      <td>0</td>\n",
       "    </tr>\n",
       "    <tr>\n",
       "      <th>3</th>\n",
       "      <td>4.6</td>\n",
       "      <td>3.1</td>\n",
       "      <td>1.5</td>\n",
       "      <td>0.2</td>\n",
       "      <td>0</td>\n",
       "    </tr>\n",
       "    <tr>\n",
       "      <th>4</th>\n",
       "      <td>5.0</td>\n",
       "      <td>3.6</td>\n",
       "      <td>1.4</td>\n",
       "      <td>0.2</td>\n",
       "      <td>0</td>\n",
       "    </tr>\n",
       "  </tbody>\n",
       "</table>\n",
       "</div>"
      ],
      "text/plain": [
       "   sepal length (cm)  sepal width (cm)  petal length (cm)  petal width (cm)  \\\n",
       "0                5.1               3.5                1.4               0.2   \n",
       "1                4.9               3.0                1.4               0.2   \n",
       "2                4.7               3.2                1.3               0.2   \n",
       "3                4.6               3.1                1.5               0.2   \n",
       "4                5.0               3.6                1.4               0.2   \n",
       "\n",
       "   target  \n",
       "0       0  \n",
       "1       0  \n",
       "2       0  \n",
       "3       0  \n",
       "4       0  "
      ]
     },
     "execution_count": 6,
     "metadata": {},
     "output_type": "execute_result"
    }
   ],
   "source": [
    "iris_df = sk_datasets.load_iris(as_frame=True).frame\n",
    "iris_df.head()"
   ]
  },
  {
   "cell_type": "code",
   "execution_count": 7,
   "id": "16b69afd",
   "metadata": {},
   "outputs": [
    {
     "name": "stdout",
     "output_type": "stream",
     "text": [
      "Target 0 has 50 samples\n",
      "Target 1 has 50 samples\n",
      "Target 2 has 50 samples\n"
     ]
    }
   ],
   "source": [
    "for unique_target in iris_df.target.unique():\n",
    "    print(f\"Target {unique_target} has {iris_df[iris_df.target == unique_target].shape[0]} samples\")"
   ]
  },
  {
   "cell_type": "code",
   "execution_count": 8,
   "id": "b93f88dc",
   "metadata": {},
   "outputs": [
    {
     "data": {
      "image/png": "[encoded data removed]",
      "text/plain": [
       "<Figure size 800x600 with 4 Axes>"
      ]
     },
     "metadata": {},
     "output_type": "display_data"
    }
   ],
   "source": [
    "unique_labels = iris_df['target'].unique()\n",
    "features = iris_df.columns[:-1]\n",
    "\n",
    "fig, axs = plt.subplots(ncols=2, nrows=2, figsize=(8, 6), layout='constrained')\n",
    "\n",
    "for i, label in enumerate(features):\n",
    "    axis = axs[i // 2][i % 2]\n",
    "    for unique_label in unique_labels:\n",
    "        axis.hist(iris_df[label][iris_df['target'] == unique_label], alpha=0.5, label=unique_label, density=True)\n",
    "    axis.set_title(label)\n",
    "    axis.legend()\n",
    "\n",
    "plt.show()"
   ]
  },
  {
   "cell_type": "markdown",
   "id": "be6861aa",
   "metadata": {},
   "source": [
    "Transform and prepare data."
   ]
  },
  {
   "cell_type": "code",
   "execution_count": 9,
   "id": "7963223a",
   "metadata": {},
   "outputs": [
    {
     "name": "stderr",
     "output_type": "stream",
     "text": [
      "/Users/philipcastiglione/.asdf/installs/python/3.12.2/lib/python3.12/site-packages/numpy/core/fromnumeric.py:59: FutureWarning: 'DataFrame.swapaxes' is deprecated and will be removed in a future version. Please use 'DataFrame.transpose' instead.\n",
      "  return bound(*args, **kwds)\n"
     ]
    }
   ],
   "source": [
    "train, test = np.split(iris_df.sample(frac=1), [int(.8*len(iris_df))])"
   ]
  },
  {
   "cell_type": "code",
   "execution_count": 10,
   "id": "ad9f53b4",
   "metadata": {},
   "outputs": [],
   "source": [
    "def scale_dataset(dataframe: pd.DataFrame):\n",
    "    X = dataframe[dataframe.columns[:-1]].values\n",
    "    y = dataframe['target'].values\n",
    "\n",
    "    scaler = sk_preprocessing.StandardScaler()\n",
    "\n",
    "    X = scaler.fit_transform(X)\n",
    "    \n",
    "    data = np.hstack((X, y.reshape(-1, 1)))\n",
    "\n",
    "    return data, X, y"
   ]
  },
  {
   "cell_type": "code",
   "execution_count": 11,
   "id": "ac5c5da2",
   "metadata": {},
   "outputs": [],
   "source": [
    "train, X_train, y_train = scale_dataset(train)\n",
    "test, X_test, y_test = scale_dataset(test)"
   ]
  },
  {
   "cell_type": "code",
   "execution_count": 12,
   "id": "4dc80e57",
   "metadata": {},
   "outputs": [
    {
     "name": "stdout",
     "output_type": "stream",
     "text": [
      "KNN with 1 neighbors\n",
      "              precision    recall  f1-score   support\n",
      "\n",
      "           0       1.00      1.00      1.00        12\n",
      "           1       1.00      0.58      0.74        12\n",
      "           2       0.55      1.00      0.71         6\n",
      "\n",
      "    accuracy                           0.83        30\n",
      "   macro avg       0.85      0.86      0.81        30\n",
      "weighted avg       0.91      0.83      0.84        30\n",
      "\n",
      "\n",
      "KNN with 3 neighbors\n",
      "              precision    recall  f1-score   support\n",
      "\n",
      "           0       1.00      1.00      1.00        12\n",
      "           1       1.00      0.58      0.74        12\n",
      "           2       0.55      1.00      0.71         6\n",
      "\n",
      "    accuracy                           0.83        30\n",
      "   macro avg       0.85      0.86      0.81        30\n",
      "weighted avg       0.91      0.83      0.84        30\n",
      "\n",
      "\n",
      "KNN with 5 neighbors\n",
      "              precision    recall  f1-score   support\n",
      "\n",
      "           0       1.00      1.00      1.00        12\n",
      "           1       1.00      0.58      0.74        12\n",
      "           2       0.55      1.00      0.71         6\n",
      "\n",
      "    accuracy                           0.83        30\n",
      "   macro avg       0.85      0.86      0.81        30\n",
      "weighted avg       0.91      0.83      0.84        30\n",
      "\n",
      "\n"
     ]
    }
   ],
   "source": [
    "for i in [1, 3, 5]:\n",
    "  knn_model = sk_neighbors.KNeighborsClassifier(n_neighbors=i)\n",
    "  knn_model.fit(X_train, y_train)\n",
    "\n",
    "  y_pred = knn_model.predict(X_test)\n",
    "\n",
    "  print(f\"KNN with {i} neighbors\")\n",
    "  print(sk_metrics.classification_report(y_test, y_pred))\n",
    "  print()"
   ]
  }
 ],
 "metadata": {
  "kernelspec": {
   "display_name": "Python 3 (ipykernel)",
   "language": "python",
   "name": "python3"
  },
  "language_info": {
   "codemirror_mode": {
    "name": "ipython",
    "version": 3
   },
   "file_extension": ".py",
   "mimetype": "text/x-python",
   "name": "python",
   "nbconvert_exporter": "python",
   "pygments_lexer": "ipython3",
   "version": "3.12.2"
  }
 },
 "nbformat": 4,
 "nbformat_minor": 5
}
